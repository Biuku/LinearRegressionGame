{
 "cells": [
  {
   "cell_type": "markdown",
   "metadata": {},
   "source": [
    "# Sandbox 1\n",
    "\n",
    "April 9, 2021"
   ]
  },
  {
   "cell_type": "markdown",
   "metadata": {},
   "source": [
    "## Scale the axes"
   ]
  },
  {
   "cell_type": "code",
   "execution_count": 1,
   "metadata": {},
   "outputs": [],
   "source": [
    "import numpy as np"
   ]
  },
  {
   "cell_type": "code",
   "execution_count": 3,
   "metadata": {},
   "outputs": [
    {
     "data": {
      "text/plain": [
       "array([ 2,  4,  6,  8, 10, 12, 14, 16, 18, 20, 22])"
      ]
     },
     "execution_count": 3,
     "metadata": {},
     "output_type": "execute_result"
    }
   ],
   "source": [
    "np.arange(2, 23, 2)"
   ]
  },
  {
   "cell_type": "code",
   "execution_count": 12,
   "metadata": {},
   "outputs": [
    {
     "data": {
      "text/plain": [
       "array([ 2. ,  2.9,  3.8,  4.7,  5.6,  6.4,  7.3,  8.2,  9.1, 10. ])"
      ]
     },
     "execution_count": 12,
     "metadata": {},
     "output_type": "execute_result"
    }
   ],
   "source": [
    "arr = np.linspace(2,10,10).round(1)\n",
    "\n",
    "arr"
   ]
  },
  {
   "cell_type": "code",
   "execution_count": 15,
   "metadata": {},
   "outputs": [
    {
     "data": {
      "text/plain": [
       "array([ 34. ,  37.9,  41.8,  45.7,  49.6,  53.5,  57.4,  61.3,  65.2,\n",
       "        69.1,  72.9,  76.8,  80.7,  84.6,  88.5,  92.4,  96.3, 100.2,\n",
       "       104.1, 108. ])"
      ]
     },
     "execution_count": 15,
     "metadata": {},
     "output_type": "execute_result"
    }
   ],
   "source": [
    "x_min = 34\n",
    "x_max = 108\n",
    "num_scales = 20\n",
    "\n",
    "arr = np.linspace(x_min, x_max, num_scales).round(1)\n",
    "arr"
   ]
  },
  {
   "cell_type": "code",
   "execution_count": 16,
   "metadata": {},
   "outputs": [
    {
     "name": "stdout",
     "output_type": "stream",
     "text": [
      "34.0\n",
      "37.9\n",
      "41.8\n",
      "45.7\n",
      "49.6\n",
      "53.5\n",
      "57.4\n",
      "61.3\n",
      "65.2\n",
      "69.1\n",
      "72.9\n",
      "76.8\n",
      "80.7\n",
      "84.6\n",
      "88.5\n",
      "92.4\n",
      "96.3\n",
      "100.2\n",
      "104.1\n",
      "108.0\n"
     ]
    }
   ],
   "source": [
    "for item in arr:\n",
    "    print(item)"
   ]
  },
  {
   "cell_type": "code",
   "execution_count": 19,
   "metadata": {},
   "outputs": [
    {
     "data": {
      "text/plain": [
       "34.0"
      ]
     },
     "execution_count": 19,
     "metadata": {},
     "output_type": "execute_result"
    }
   ],
   "source": [
    "arr[0]\n"
   ]
  },
  {
   "cell_type": "markdown",
   "metadata": {},
   "source": [
    "## Import basic np array"
   ]
  },
  {
   "cell_type": "code",
   "execution_count": 20,
   "metadata": {},
   "outputs": [],
   "source": [
    "arr = np.load('data/basic_arr.npy')"
   ]
  },
  {
   "cell_type": "code",
   "execution_count": 21,
   "metadata": {},
   "outputs": [
    {
     "data": {
      "text/plain": [
       "array([[ 34,   5],\n",
       "       [108,  17],\n",
       "       [ 64,  11],\n",
       "       [ 88,   8],\n",
       "       [ 99,  14],\n",
       "       [ 51,   5]], dtype=int64)"
      ]
     },
     "execution_count": 21,
     "metadata": {},
     "output_type": "execute_result"
    }
   ],
   "source": [
    "arr"
   ]
  },
  {
   "cell_type": "code",
   "execution_count": 25,
   "metadata": {},
   "outputs": [
    {
     "data": {
      "text/plain": [
       "34"
      ]
     },
     "execution_count": 25,
     "metadata": {},
     "output_type": "execute_result"
    }
   ],
   "source": [
    "arr[0][0]"
   ]
  },
  {
   "cell_type": "code",
   "execution_count": 26,
   "metadata": {},
   "outputs": [
    {
     "data": {
      "text/plain": [
       "108"
      ]
     },
     "execution_count": 26,
     "metadata": {},
     "output_type": "execute_result"
    }
   ],
   "source": [
    "arr[1][0]"
   ]
  },
  {
   "cell_type": "code",
   "execution_count": 32,
   "metadata": {},
   "outputs": [
    {
     "data": {
      "text/plain": [
       "array([[ 34,   5],\n",
       "       [ 51,   5],\n",
       "       [ 64,  11],\n",
       "       [ 88,   8],\n",
       "       [ 99,  14],\n",
       "       [108,  17]], dtype=int64)"
      ]
     },
     "execution_count": 32,
     "metadata": {},
     "output_type": "execute_result"
    }
   ],
   "source": [
    "arr2 = arr[arr[:, 0].argsort()]\n",
    "arr2"
   ]
  },
  {
   "cell_type": "code",
   "execution_count": 35,
   "metadata": {},
   "outputs": [
    {
     "data": {
      "text/plain": [
       "34"
      ]
     },
     "execution_count": 35,
     "metadata": {},
     "output_type": "execute_result"
    }
   ],
   "source": [
    "arr[:,0].min()"
   ]
  },
  {
   "cell_type": "code",
   "execution_count": 37,
   "metadata": {},
   "outputs": [
    {
     "data": {
      "text/plain": [
       "array([ 34. ,  37.9,  41.8,  45.7,  49.6,  53.5,  57.4,  61.3,  65.2,\n",
       "        69.1,  72.9,  76.8,  80.7,  84.6,  88.5,  92.4,  96.3, 100.2,\n",
       "       104.1, 108. ])"
      ]
     },
     "execution_count": 37,
     "metadata": {},
     "output_type": "execute_result"
    }
   ],
   "source": [
    "x_scale = np.linspace( (arr[:,0].min() ), (arr[:,0].max() ), 20).round(1)\n",
    "x_scale"
   ]
  },
  {
   "cell_type": "code",
   "execution_count": 38,
   "metadata": {},
   "outputs": [
    {
     "data": {
      "text/plain": [
       "3.8999999999999986"
      ]
     },
     "execution_count": 38,
     "metadata": {},
     "output_type": "execute_result"
    }
   ],
   "source": [
    "x_scale[1] - x_scale[0]"
   ]
  },
  {
   "cell_type": "code",
   "execution_count": 40,
   "metadata": {},
   "outputs": [],
   "source": [
    "import math as m"
   ]
  },
  {
   "cell_type": "code",
   "execution_count": 41,
   "metadata": {},
   "outputs": [
    {
     "data": {
      "text/plain": [
       "0.5235987755982988"
      ]
     },
     "execution_count": 41,
     "metadata": {},
     "output_type": "execute_result"
    }
   ],
   "source": [
    "m.radians(30)"
   ]
  },
  {
   "cell_type": "markdown",
   "metadata": {},
   "source": [
    "#### Get opposite radians"
   ]
  },
  {
   "cell_type": "code",
   "execution_count": 42,
   "metadata": {},
   "outputs": [],
   "source": [
    "degrees = 225\n",
    "actual_opposite_degrees = 45"
   ]
  },
  {
   "cell_type": "code",
   "execution_count": 44,
   "metadata": {},
   "outputs": [],
   "source": [
    "def get_opposite(deg):\n",
    "    opposite = deg + 180\n",
    "    \n",
    "    if opposite > 360:\n",
    "        opposite -= 360\n",
    "        \n",
    "    return opposite"
   ]
  },
  {
   "cell_type": "code",
   "execution_count": 45,
   "metadata": {},
   "outputs": [
    {
     "name": "stdout",
     "output_type": "stream",
     "text": [
      "Degrees: 0  |  Opposite: 180\n",
      "Degrees: 30  |  Opposite: 210\n",
      "Degrees: 60  |  Opposite: 240\n",
      "Degrees: 90  |  Opposite: 270\n",
      "Degrees: 120  |  Opposite: 300\n",
      "Degrees: 150  |  Opposite: 330\n",
      "Degrees: 180  |  Opposite: 360\n",
      "Degrees: 210  |  Opposite: 30\n",
      "Degrees: 240  |  Opposite: 60\n",
      "Degrees: 270  |  Opposite: 90\n",
      "Degrees: 300  |  Opposite: 120\n",
      "Degrees: 330  |  Opposite: 150\n"
     ]
    }
   ],
   "source": [
    "for deg in range(0, 360, 30):\n",
    "    opposite = get_opposite(deg)\n",
    "    print(f\"Degrees: {deg}  |  Opposite: {opposite}\")"
   ]
  },
  {
   "cell_type": "markdown",
   "metadata": {},
   "source": [
    "#### This seems about right"
   ]
  },
  {
   "cell_type": "code",
   "execution_count": null,
   "metadata": {},
   "outputs": [],
   "source": []
  }
 ],
 "metadata": {
  "kernelspec": {
   "display_name": "Python 3",
   "language": "python",
   "name": "python3"
  },
  "language_info": {
   "codemirror_mode": {
    "name": "ipython",
    "version": 3
   },
   "file_extension": ".py",
   "mimetype": "text/x-python",
   "name": "python",
   "nbconvert_exporter": "python",
   "pygments_lexer": "ipython3",
   "version": "3.7.6"
  }
 },
 "nbformat": 4,
 "nbformat_minor": 4
}
